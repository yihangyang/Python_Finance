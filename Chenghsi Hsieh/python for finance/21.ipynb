{
 "cells": [
  {
   "cell_type": "code",
   "execution_count": 1,
   "metadata": {},
   "outputs": [],
   "source": [
    "#21.Input Output Oprations-2"
   ]
  },
  {
   "cell_type": "code",
   "execution_count": 2,
   "metadata": {},
   "outputs": [],
   "source": [
    "#SQL Databases"
   ]
  },
  {
   "cell_type": "code",
   "execution_count": 3,
   "metadata": {},
   "outputs": [],
   "source": [
    "import sqlite3 as sq3"
   ]
  },
  {
   "cell_type": "code",
   "execution_count": 4,
   "metadata": {},
   "outputs": [],
   "source": [
    "query = 'CREATE TABLE numbs (Date date,No1 real,No2 real)'"
   ]
  },
  {
   "cell_type": "code",
   "execution_count": 5,
   "metadata": {},
   "outputs": [],
   "source": [
    "path = 'data/'"
   ]
  },
  {
   "cell_type": "code",
   "execution_count": 6,
   "metadata": {},
   "outputs": [],
   "source": [
    "con = sq3.connect(path + 'numbs.db')"
   ]
  },
  {
   "cell_type": "code",
   "execution_count": 7,
   "metadata": {},
   "outputs": [
    {
     "data": {
      "text/plain": [
       "<sqlite3.Cursor at 0x1b48ceabb90>"
      ]
     },
     "execution_count": 7,
     "metadata": {},
     "output_type": "execute_result"
    }
   ],
   "source": [
    "con.execute(query)"
   ]
  },
  {
   "cell_type": "code",
   "execution_count": 8,
   "metadata": {},
   "outputs": [],
   "source": [
    "con.commit()"
   ]
  },
  {
   "cell_type": "code",
   "execution_count": 9,
   "metadata": {},
   "outputs": [],
   "source": [
    "q = con.execute"
   ]
  },
  {
   "cell_type": "code",
   "execution_count": 10,
   "metadata": {},
   "outputs": [
    {
     "data": {
      "text/plain": [
       "[('table',\n",
       "  'numbs',\n",
       "  'numbs',\n",
       "  2,\n",
       "  'CREATE TABLE numbs (Date date,No1 real,No2 real)')]"
      ]
     },
     "execution_count": 10,
     "metadata": {},
     "output_type": "execute_result"
    }
   ],
   "source": [
    "q('SELECT * FROM sqlite_master').fetchall()"
   ]
  },
  {
   "cell_type": "code",
   "execution_count": 11,
   "metadata": {},
   "outputs": [],
   "source": [
    "import datetime"
   ]
  },
  {
   "cell_type": "code",
   "execution_count": 12,
   "metadata": {},
   "outputs": [
    {
     "data": {
      "text/plain": [
       "<sqlite3.Cursor at 0x1b48cf20420>"
      ]
     },
     "execution_count": 12,
     "metadata": {},
     "output_type": "execute_result"
    }
   ],
   "source": [
    "now = datetime.datetime.now()\n",
    "q('INSERt INTO numbs VALUES(?,?,?)',(now,0.12,7.3))"
   ]
  },
  {
   "cell_type": "code",
   "execution_count": 13,
   "metadata": {},
   "outputs": [],
   "source": [
    "import numpy as np\n",
    "np.random.seed(100)"
   ]
  },
  {
   "cell_type": "code",
   "execution_count": 14,
   "metadata": {},
   "outputs": [
    {
     "data": {
      "text/plain": [
       "array([[-1.7498,  0.3427],\n",
       "       [ 1.153 , -0.2524],\n",
       "       [ 0.9813,  0.5142],\n",
       "       [ 0.2212, -1.07  ],\n",
       "       [-0.1895,  0.255 ]])"
      ]
     },
     "execution_count": 14,
     "metadata": {},
     "output_type": "execute_result"
    }
   ],
   "source": [
    "data = np.random.standard_normal((10000,2)).round(4)\n",
    "data[:5]"
   ]
  },
  {
   "cell_type": "code",
   "execution_count": 15,
   "metadata": {},
   "outputs": [
    {
     "name": "stdout",
     "output_type": "stream",
     "text": [
      "Wall time: 126 ms\n"
     ]
    }
   ],
   "source": [
    "%%time\n",
    "for row in data:\n",
    "    now = datetime.datetime.now()\n",
    "    q('INSERT INTO numbs VALUES(?,?,?)',(now,row[0],row[1]))\n",
    "con.commit()"
   ]
  },
  {
   "cell_type": "code",
   "execution_count": 16,
   "metadata": {},
   "outputs": [
    {
     "data": {
      "text/plain": [
       "[('2019-10-06 00:43:44.541775', 0.12, 7.3),\n",
       " ('2019-10-06 00:43:44.724815', -1.7498, 0.3427),\n",
       " ('2019-10-06 00:43:44.724815', 1.153, -0.2524),\n",
       " ('2019-10-06 00:43:44.724815', 0.9813, 0.5142)]"
      ]
     },
     "execution_count": 16,
     "metadata": {},
     "output_type": "execute_result"
    }
   ],
   "source": [
    "q('SELECT * FROM numbs').fetchmany(4)"
   ]
  },
  {
   "cell_type": "code",
   "execution_count": 17,
   "metadata": {},
   "outputs": [
    {
     "data": {
      "text/plain": [
       "[('2019-10-06 00:43:44.724815', 1.153, -0.2524),\n",
       " ('2019-10-06 00:43:44.724815', 0.9813, 0.5142),\n",
       " ('2019-10-06 00:43:44.724815', 0.6727, -0.1044),\n",
       " ('2019-10-06 00:43:44.724815', 1.619, 1.5416)]"
      ]
     },
     "execution_count": 17,
     "metadata": {},
     "output_type": "execute_result"
    }
   ],
   "source": [
    "q('SELECT * FROM numbs WHERE no1 > 0.5').fetchmany(4)"
   ]
  },
  {
   "cell_type": "code",
   "execution_count": 18,
   "metadata": {},
   "outputs": [],
   "source": [
    "pointer = q('SELECT * FROM numbs')"
   ]
  },
  {
   "cell_type": "code",
   "execution_count": 19,
   "metadata": {},
   "outputs": [
    {
     "name": "stdout",
     "output_type": "stream",
     "text": [
      "('2019-10-06 00:43:44.541775', 0.12, 7.3)\n",
      "('2019-10-06 00:43:44.724815', -1.7498, 0.3427)\n",
      "('2019-10-06 00:43:44.724815', 1.153, -0.2524)\n"
     ]
    }
   ],
   "source": [
    "for i in range(3):\n",
    "    print(pointer.fetchone())"
   ]
  },
  {
   "cell_type": "code",
   "execution_count": 20,
   "metadata": {},
   "outputs": [
    {
     "data": {
      "text/plain": [
       "[('2019-10-06 00:43:44.724815', 0.9813, 0.5142),\n",
       " ('2019-10-06 00:43:44.724815', 0.2212, -1.07),\n",
       " ('2019-10-06 00:43:44.724815', -0.1895, 0.255)]"
      ]
     },
     "execution_count": 20,
     "metadata": {},
     "output_type": "execute_result"
    }
   ],
   "source": [
    "rows = pointer.fetchall() # Retrieves all the remaining rows\n",
    "rows[:3]"
   ]
  },
  {
   "cell_type": "code",
   "execution_count": 21,
   "metadata": {},
   "outputs": [
    {
     "data": {
      "text/plain": [
       "<sqlite3.Cursor at 0x1b48d2a3ce0>"
      ]
     },
     "execution_count": 21,
     "metadata": {},
     "output_type": "execute_result"
    }
   ],
   "source": [
    "q('DROP TABLE IF EXISTS numbs')"
   ]
  },
  {
   "cell_type": "code",
   "execution_count": 22,
   "metadata": {},
   "outputs": [
    {
     "data": {
      "text/plain": [
       "[]"
      ]
     },
     "execution_count": 22,
     "metadata": {},
     "output_type": "execute_result"
    }
   ],
   "source": [
    "q('SELECT * FROM sqlite_master').fetchall()"
   ]
  },
  {
   "cell_type": "code",
   "execution_count": 23,
   "metadata": {},
   "outputs": [],
   "source": [
    "con.close()"
   ]
  },
  {
   "cell_type": "code",
   "execution_count": 24,
   "metadata": {},
   "outputs": [
    {
     "name": "stdout",
     "output_type": "stream",
     "text": [
      " 驱动器 C 中的卷没有标签。\n",
      " 卷的序列号是 340F-4C0D\n",
      "\n",
      " C:\\Users\\Carol\\Documents\\jupyterLab\\Chenghsi Hsieh\\python for finance\\data 的目录\n",
      "\n",
      "2019/10/06  00:45    <DIR>          .\n",
      "2019/10/06  00:45    <DIR>          ..\n",
      "2019/10/06  00:43    <DIR>          .ipynb_checkpoints\n",
      "2018/12/04  15:03           158,202 fxcm_eur_usd_eod_data.csv\n",
      "2018/12/04  15:03        20,459,972 fxcm_eur_usd_tick_data.csv\n",
      "2019/10/06  00:45           520,192 numbs.db\n",
      "2018/12/04  15:03           546,910 tr_eikon_aapl_tick.csv\n",
      "2018/12/04  15:03           209,046 tr_eikon_eod_data.csv\n",
      "2018/12/04  15:03           192,903 tr_eikon_eod_data_rounded.csv\n",
      "2018/12/04  15:03             7,612 tr_eikon_option_data.csv\n",
      "               7 个文件     22,094,837 字节\n",
      "               3 个目录 44,336,529,408 可用字节\n"
     ]
    }
   ],
   "source": [
    "!dir data"
   ]
  },
  {
   "cell_type": "code",
   "execution_count": 25,
   "metadata": {},
   "outputs": [],
   "source": [
    "!del data\\*.db"
   ]
  },
  {
   "cell_type": "code",
   "execution_count": 26,
   "metadata": {},
   "outputs": [
    {
     "name": "stdout",
     "output_type": "stream",
     "text": [
      " 驱动器 C 中的卷没有标签。\n",
      " 卷的序列号是 340F-4C0D\n",
      "\n",
      " C:\\Users\\Carol\\Documents\\jupyterLab\\Chenghsi Hsieh\\python for finance\\data 的目录\n",
      "\n",
      "2019/10/06  00:46    <DIR>          .\n",
      "2019/10/06  00:46    <DIR>          ..\n",
      "2019/10/06  00:43    <DIR>          .ipynb_checkpoints\n",
      "2018/12/04  15:03           158,202 fxcm_eur_usd_eod_data.csv\n",
      "2018/12/04  15:03        20,459,972 fxcm_eur_usd_tick_data.csv\n",
      "2018/12/04  15:03           546,910 tr_eikon_aapl_tick.csv\n",
      "2018/12/04  15:03           209,046 tr_eikon_eod_data.csv\n",
      "2018/12/04  15:03           192,903 tr_eikon_eod_data_rounded.csv\n",
      "2018/12/04  15:03             7,612 tr_eikon_option_data.csv\n",
      "               6 个文件     21,574,645 字节\n",
      "               3 个目录 44,334,694,400 可用字节\n"
     ]
    }
   ],
   "source": [
    "!dir data"
   ]
  },
  {
   "cell_type": "code",
   "execution_count": 27,
   "metadata": {},
   "outputs": [],
   "source": [
    "#Writing and Reading Numpy Arrays"
   ]
  },
  {
   "cell_type": "code",
   "execution_count": 29,
   "metadata": {},
   "outputs": [],
   "source": [
    "dtimes = np.arange('2019-01-01 10:00:00','2025-12-31 22:00:00',\n",
    "                   dtype = 'datetime64[m]')"
   ]
  },
  {
   "cell_type": "code",
   "execution_count": 30,
   "metadata": {},
   "outputs": [
    {
     "data": {
      "text/plain": [
       "3681360"
      ]
     },
     "execution_count": 30,
     "metadata": {},
     "output_type": "execute_result"
    }
   ],
   "source": [
    "len(dtimes)"
   ]
  },
  {
   "cell_type": "code",
   "execution_count": null,
   "metadata": {},
   "outputs": [],
   "source": []
  }
 ],
 "metadata": {
  "kernelspec": {
   "display_name": "Python 3",
   "language": "python",
   "name": "python3"
  },
  "language_info": {
   "codemirror_mode": {
    "name": "ipython",
    "version": 3
   },
   "file_extension": ".py",
   "mimetype": "text/x-python",
   "name": "python",
   "nbconvert_exporter": "python",
   "pygments_lexer": "ipython3",
   "version": "3.7.3"
  }
 },
 "nbformat": 4,
 "nbformat_minor": 2
}
