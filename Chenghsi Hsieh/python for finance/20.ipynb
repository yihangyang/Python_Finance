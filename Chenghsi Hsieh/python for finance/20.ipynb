{
 "cells": [
  {
   "cell_type": "code",
   "execution_count": 1,
   "metadata": {},
   "outputs": [],
   "source": [
    "#20.Input Output Oprations-1"
   ]
  },
  {
   "cell_type": "code",
   "execution_count": 2,
   "metadata": {},
   "outputs": [],
   "source": [
    "#Basic I/O with Python"
   ]
  },
  {
   "cell_type": "code",
   "execution_count": 3,
   "metadata": {},
   "outputs": [],
   "source": [
    "#Writing Object To Disk"
   ]
  },
  {
   "cell_type": "code",
   "execution_count": 4,
   "metadata": {},
   "outputs": [],
   "source": [
    "from pylab import plt,mpl\n",
    "import pickle\n",
    "import numpy as np\n",
    "from random import gauss"
   ]
  },
  {
   "cell_type": "code",
   "execution_count": 5,
   "metadata": {},
   "outputs": [],
   "source": [
    "a = [gauss(1.5,2) for i in range(1000000)]"
   ]
  },
  {
   "cell_type": "code",
   "execution_count": 6,
   "metadata": {},
   "outputs": [
    {
     "name": "stderr",
     "output_type": "stream",
     "text": [
      "子目录或文件 data 已经存在。\n"
     ]
    }
   ],
   "source": [
    "!md data"
   ]
  },
  {
   "cell_type": "code",
   "execution_count": 7,
   "metadata": {},
   "outputs": [],
   "source": [
    "path = 'data/'"
   ]
  },
  {
   "cell_type": "code",
   "execution_count": 8,
   "metadata": {},
   "outputs": [],
   "source": [
    "pkl_file = open(path + 'data.pkl','wb')"
   ]
  },
  {
   "cell_type": "code",
   "execution_count": 9,
   "metadata": {},
   "outputs": [
    {
     "name": "stdout",
     "output_type": "stream",
     "text": [
      "Wall time: 47.9 ms\n"
     ]
    }
   ],
   "source": [
    "#pickle.dump() for writing objects\n",
    "%time pickle.dump(a,pkl_file)"
   ]
  },
  {
   "cell_type": "code",
   "execution_count": 10,
   "metadata": {},
   "outputs": [],
   "source": [
    "pkl_file.close()"
   ]
  },
  {
   "cell_type": "code",
   "execution_count": 11,
   "metadata": {},
   "outputs": [
    {
     "name": "stdout",
     "output_type": "stream",
     "text": [
      " 驱动器 C 中的卷没有标签。\n",
      " 卷的序列号是 340F-4C0D\n",
      "\n",
      " C:\\Users\\Carol\\Documents\\jupyterLab\\Chenghsi Hsieh\\python for finance\\data 的目录\n",
      "\n",
      "2019/10/06  00:12    <DIR>          .\n",
      "2019/10/06  00:12    <DIR>          ..\n",
      "2019/10/06  00:00           569,294 data.csv\n",
      "2019/10/06  00:12         9,002,006 data.pkl\n",
      "2018/12/04  15:03           158,202 fxcm_eur_usd_eod_data.csv\n",
      "2018/12/04  15:03        20,459,972 fxcm_eur_usd_tick_data.csv\n",
      "2018/12/04  15:03           546,910 tr_eikon_aapl_tick.csv\n",
      "2018/12/04  15:03           209,046 tr_eikon_eod_data.csv\n",
      "2018/12/04  15:03           192,903 tr_eikon_eod_data_rounded.csv\n",
      "2018/12/04  15:03             7,612 tr_eikon_option_data.csv\n",
      "               8 个文件     31,145,945 字节\n",
      "               2 个目录 44,430,094,336 可用字节\n"
     ]
    }
   ],
   "source": [
    "!dir data"
   ]
  },
  {
   "cell_type": "code",
   "execution_count": 12,
   "metadata": {},
   "outputs": [],
   "source": [
    "#读出来\n",
    "pkl_file = open(path + 'data.pkl','rb')"
   ]
  },
  {
   "cell_type": "code",
   "execution_count": 13,
   "metadata": {},
   "outputs": [
    {
     "name": "stdout",
     "output_type": "stream",
     "text": [
      "Wall time: 90.8 ms\n"
     ]
    }
   ],
   "source": [
    "%time b = pickle.load(pkl_file)"
   ]
  },
  {
   "cell_type": "code",
   "execution_count": 14,
   "metadata": {},
   "outputs": [
    {
     "data": {
      "text/plain": [
       "[3.4811725352558867, -0.9739202102209394, 2.2251516089876753]"
      ]
     },
     "execution_count": 14,
     "metadata": {},
     "output_type": "execute_result"
    }
   ],
   "source": [
    "a[:3]"
   ]
  },
  {
   "cell_type": "code",
   "execution_count": 15,
   "metadata": {},
   "outputs": [
    {
     "data": {
      "text/plain": [
       "[3.4811725352558867, -0.9739202102209394, 2.2251516089876753]"
      ]
     },
     "execution_count": 15,
     "metadata": {},
     "output_type": "execute_result"
    }
   ],
   "source": [
    "b[:3]"
   ]
  },
  {
   "cell_type": "code",
   "execution_count": 16,
   "metadata": {},
   "outputs": [
    {
     "data": {
      "text/plain": [
       "True"
      ]
     },
     "execution_count": 16,
     "metadata": {},
     "output_type": "execute_result"
    }
   ],
   "source": [
    "#比较两个阵列是否完全相同\n",
    "np.allclose(np.array(a),np.array(b))"
   ]
  },
  {
   "cell_type": "code",
   "execution_count": 17,
   "metadata": {},
   "outputs": [],
   "source": [
    "pkl_file.close()"
   ]
  },
  {
   "cell_type": "code",
   "execution_count": 18,
   "metadata": {},
   "outputs": [],
   "source": [
    "pkl_file = open(path + 'data.pkl','wb')"
   ]
  },
  {
   "cell_type": "code",
   "execution_count": 19,
   "metadata": {},
   "outputs": [
    {
     "name": "stdout",
     "output_type": "stream",
     "text": [
      "Wall time: 50.9 ms\n"
     ]
    }
   ],
   "source": [
    "%time pickle.dump(np.array(a),pkl_file)"
   ]
  },
  {
   "cell_type": "code",
   "execution_count": 20,
   "metadata": {},
   "outputs": [
    {
     "name": "stdout",
     "output_type": "stream",
     "text": [
      "Wall time: 57.8 ms\n"
     ]
    }
   ],
   "source": [
    "%time pickle.dump(np.array(a) ** 2,pkl_file) "
   ]
  },
  {
   "cell_type": "code",
   "execution_count": 21,
   "metadata": {},
   "outputs": [
    {
     "name": "stdout",
     "output_type": "stream",
     "text": [
      " 驱动器 C 中的卷没有标签。\n",
      " 卷的序列号是 340F-4C0D\n",
      "\n",
      " C:\\Users\\Carol\\Documents\\jupyterLab\\Chenghsi Hsieh\\python for finance\\data 的目录\n",
      "\n",
      "2019/10/06  00:12    <DIR>          .\n",
      "2019/10/06  00:12    <DIR>          ..\n",
      "2019/10/06  00:00           569,294 data.csv\n",
      "2019/10/06  00:12                 0 data.pkl\n",
      "2018/12/04  15:03           158,202 fxcm_eur_usd_eod_data.csv\n",
      "2018/12/04  15:03        20,459,972 fxcm_eur_usd_tick_data.csv\n",
      "2018/12/04  15:03           546,910 tr_eikon_aapl_tick.csv\n",
      "2018/12/04  15:03           209,046 tr_eikon_eod_data.csv\n",
      "2018/12/04  15:03           192,903 tr_eikon_eod_data_rounded.csv\n",
      "2018/12/04  15:03             7,612 tr_eikon_option_data.csv\n",
      "               8 个文件     22,143,939 字节\n",
      "               2 个目录 44,423,073,792 可用字节\n"
     ]
    }
   ],
   "source": [
    "! dir data"
   ]
  },
  {
   "cell_type": "code",
   "execution_count": 22,
   "metadata": {},
   "outputs": [],
   "source": [
    "#pickle store objects according to FIFO\n",
    "pkl_file = open(path + 'data.pkl','rb')"
   ]
  },
  {
   "cell_type": "code",
   "execution_count": 23,
   "metadata": {},
   "outputs": [
    {
     "data": {
      "text/plain": [
       "array([ 3.48117254, -0.97392021,  2.22515161,  2.58523155])"
      ]
     },
     "execution_count": 23,
     "metadata": {},
     "output_type": "execute_result"
    }
   ],
   "source": [
    "x = pickle.load(pkl_file)\n",
    "x[:4]"
   ]
  },
  {
   "cell_type": "code",
   "execution_count": 24,
   "metadata": {},
   "outputs": [
    {
     "data": {
      "text/plain": [
       "array([12.11856222,  0.94852058,  4.95129968,  6.68342216])"
      ]
     },
     "execution_count": 24,
     "metadata": {},
     "output_type": "execute_result"
    }
   ],
   "source": [
    "y = pickle.load(pkl_file)\n",
    "y[:4]"
   ]
  },
  {
   "cell_type": "code",
   "execution_count": 25,
   "metadata": {},
   "outputs": [],
   "source": [
    "pkl_file = open(path + 'data.pkl','wb')\n",
    "pickle.dump({'x':x,'y':y},pkl_file)\n",
    "pkl_file.close()"
   ]
  },
  {
   "cell_type": "code",
   "execution_count": 26,
   "metadata": {},
   "outputs": [
    {
     "name": "stdout",
     "output_type": "stream",
     "text": [
      "x [ 3.48117254 -0.97392021  2.22515161  2.58523155]\n",
      "y [12.11856222  0.94852058  4.95129968  6.68342216]\n"
     ]
    }
   ],
   "source": [
    "pkl_file = open(path + 'data.pkl','rb')\n",
    "data = pickle.load(pkl_file)\n",
    "pkl_file.close()\n",
    "\n",
    "for key in data.keys():\n",
    "    print(key,data[key][:4])"
   ]
  },
  {
   "cell_type": "code",
   "execution_count": 27,
   "metadata": {},
   "outputs": [],
   "source": [
    "!del data\\data.pkl"
   ]
  },
  {
   "cell_type": "code",
   "execution_count": 28,
   "metadata": {},
   "outputs": [
    {
     "name": "stdout",
     "output_type": "stream",
     "text": [
      " 驱动器 C 中的卷没有标签。\n",
      " 卷的序列号是 340F-4C0D\n",
      "\n",
      " C:\\Users\\Carol\\Documents\\jupyterLab\\Chenghsi Hsieh\\python for finance\\data 的目录\n",
      "\n",
      "2019/10/06  00:12    <DIR>          .\n",
      "2019/10/06  00:12    <DIR>          ..\n",
      "2019/10/06  00:00           569,294 data.csv\n",
      "2018/12/04  15:03           158,202 fxcm_eur_usd_eod_data.csv\n",
      "2018/12/04  15:03        20,459,972 fxcm_eur_usd_tick_data.csv\n",
      "2018/12/04  15:03           546,910 tr_eikon_aapl_tick.csv\n",
      "2018/12/04  15:03           209,046 tr_eikon_eod_data.csv\n",
      "2018/12/04  15:03           192,903 tr_eikon_eod_data_rounded.csv\n",
      "2018/12/04  15:03             7,612 tr_eikon_option_data.csv\n",
      "               7 个文件     22,143,939 字节\n",
      "               2 个目录 44,439,097,344 可用字节\n"
     ]
    }
   ],
   "source": [
    "!dir data"
   ]
  },
  {
   "cell_type": "code",
   "execution_count": 29,
   "metadata": {},
   "outputs": [],
   "source": [
    "#Reading and Writing Text Files"
   ]
  },
  {
   "cell_type": "code",
   "execution_count": 30,
   "metadata": {},
   "outputs": [],
   "source": [
    "import pandas as pd"
   ]
  },
  {
   "cell_type": "code",
   "execution_count": 31,
   "metadata": {},
   "outputs": [
    {
     "data": {
      "text/plain": [
       "array([[-0.1942, -0.356 , -0.7662, -0.2161, -0.3721],\n",
       "       [ 0.1498,  1.6072, -1.4736,  0.9082,  0.5728],\n",
       "       [-1.2113, -0.2479, -1.4994, -1.9336,  1.309 ],\n",
       "       ...,\n",
       "       [-0.862 , -0.524 , -0.604 ,  0.7291,  0.9832],\n",
       "       [ 0.7868, -0.7907,  0.9758,  0.7117,  1.6583],\n",
       "       [-1.9663,  1.4499, -0.9167,  1.3908, -0.7676]])"
      ]
     },
     "execution_count": 31,
     "metadata": {},
     "output_type": "execute_result"
    }
   ],
   "source": [
    "rows = 5000\n",
    "a = np.random.standard_normal((rows,5)).round(4)\n",
    "a"
   ]
  },
  {
   "cell_type": "code",
   "execution_count": 32,
   "metadata": {},
   "outputs": [
    {
     "data": {
      "text/plain": [
       "DatetimeIndex(['2009-01-01 00:00:00', '2009-01-01 01:00:00',\n",
       "               '2009-01-01 02:00:00', '2009-01-01 03:00:00',\n",
       "               '2009-01-01 04:00:00', '2009-01-01 05:00:00',\n",
       "               '2009-01-01 06:00:00', '2009-01-01 07:00:00',\n",
       "               '2009-01-01 08:00:00', '2009-01-01 09:00:00',\n",
       "               ...\n",
       "               '2009-07-27 22:00:00', '2009-07-27 23:00:00',\n",
       "               '2009-07-28 00:00:00', '2009-07-28 01:00:00',\n",
       "               '2009-07-28 02:00:00', '2009-07-28 03:00:00',\n",
       "               '2009-07-28 04:00:00', '2009-07-28 05:00:00',\n",
       "               '2009-07-28 06:00:00', '2009-07-28 07:00:00'],\n",
       "              dtype='datetime64[ns]', length=5000, freq='H')"
      ]
     },
     "execution_count": 32,
     "metadata": {},
     "output_type": "execute_result"
    }
   ],
   "source": [
    "t = pd.date_range(start='2009/1/1',periods=rows,freq='H')\n",
    "t"
   ]
  },
  {
   "cell_type": "code",
   "execution_count": 33,
   "metadata": {},
   "outputs": [],
   "source": [
    "csv_file = open(path + 'data.csv','w')"
   ]
  },
  {
   "cell_type": "code",
   "execution_count": 34,
   "metadata": {},
   "outputs": [],
   "source": [
    "headers = 'data,no1,no2,no3,no4,no5\\n'"
   ]
  },
  {
   "cell_type": "code",
   "execution_count": 35,
   "metadata": {},
   "outputs": [
    {
     "data": {
      "text/plain": [
       "25"
      ]
     },
     "execution_count": 35,
     "metadata": {},
     "output_type": "execute_result"
    }
   ],
   "source": [
    "csv_file.write(headers)"
   ]
  },
  {
   "cell_type": "code",
   "execution_count": 36,
   "metadata": {},
   "outputs": [],
   "source": [
    "for t_,(no1,no2,no3,no4,no5) in zip(t,a):\n",
    "    s = '{},{},{},{},{},{}\\n'.format(t_,no1,no2,no3,no4,no5)\n",
    "    csv_file.write(s)"
   ]
  },
  {
   "cell_type": "code",
   "execution_count": 37,
   "metadata": {},
   "outputs": [],
   "source": [
    "csv_file.close()"
   ]
  },
  {
   "cell_type": "code",
   "execution_count": 38,
   "metadata": {},
   "outputs": [
    {
     "name": "stdout",
     "output_type": "stream",
     "text": [
      " 驱动器 C 中的卷没有标签。\n",
      " 卷的序列号是 340F-4C0D\n",
      "\n",
      " C:\\Users\\Carol\\Documents\\jupyterLab\\Chenghsi Hsieh\\python for finance\\data 的目录\n",
      "\n",
      "2019/10/06  00:12    <DIR>          .\n",
      "2019/10/06  00:12    <DIR>          ..\n",
      "2019/10/06  00:12           289,747 data.csv\n",
      "2018/12/04  15:03           158,202 fxcm_eur_usd_eod_data.csv\n",
      "2018/12/04  15:03        20,459,972 fxcm_eur_usd_tick_data.csv\n",
      "2018/12/04  15:03           546,910 tr_eikon_aapl_tick.csv\n",
      "2018/12/04  15:03           209,046 tr_eikon_eod_data.csv\n",
      "2018/12/04  15:03           192,903 tr_eikon_eod_data_rounded.csv\n",
      "2018/12/04  15:03             7,612 tr_eikon_option_data.csv\n",
      "               7 个文件     21,864,392 字节\n",
      "               2 个目录 44,439,797,760 可用字节\n"
     ]
    }
   ],
   "source": [
    "!dir data"
   ]
  },
  {
   "cell_type": "code",
   "execution_count": 39,
   "metadata": {},
   "outputs": [],
   "source": [
    "csv_file = open(path + 'data.csv','r')"
   ]
  },
  {
   "cell_type": "code",
   "execution_count": 40,
   "metadata": {},
   "outputs": [
    {
     "data": {
      "text/plain": [
       "'data,no1,no2,no3,no4,no5\\n'"
      ]
     },
     "execution_count": 40,
     "metadata": {},
     "output_type": "execute_result"
    }
   ],
   "source": [
    "csv_file.readline()"
   ]
  },
  {
   "cell_type": "code",
   "execution_count": 41,
   "metadata": {},
   "outputs": [
    {
     "data": {
      "text/plain": [
       "'2009-01-01 00:00:00,-0.1942,-0.356,-0.7662,-0.2161,-0.3721\\n'"
      ]
     },
     "execution_count": 41,
     "metadata": {},
     "output_type": "execute_result"
    }
   ],
   "source": [
    "csv_file.readline()"
   ]
  },
  {
   "cell_type": "code",
   "execution_count": 42,
   "metadata": {},
   "outputs": [
    {
     "data": {
      "text/plain": [
       "'2009-01-01 01:00:00,0.1498,1.6072,-1.4736,0.9082,0.5728\\n'"
      ]
     },
     "execution_count": 42,
     "metadata": {},
     "output_type": "execute_result"
    }
   ],
   "source": [
    "csv_file.readline()"
   ]
  },
  {
   "cell_type": "code",
   "execution_count": 45,
   "metadata": {},
   "outputs": [
    {
     "name": "stdout",
     "output_type": "stream",
     "text": [
      "2009-01-01 07:00:00,-0.7965,1.3788,0.5962,-0.1228,-1.082\n",
      "2009-01-01 08:00:00,0.6368,0.7945,0.2596,-0.8943,-0.4145\n",
      "2009-01-01 09:00:00,1.3394,-0.9897,0.658,-0.6953,-2.3331\n",
      "2009-01-01 10:00:00,-0.977,0.4262,-0.4777,0.072,0.2784\n",
      "2009-01-01 11:00:00,-0.1108,-0.5172,-0.0114,0.4483,0.4617\n"
     ]
    }
   ],
   "source": [
    "for i in range(5):\n",
    "    print(csv_file.readline(),end='')"
   ]
  },
  {
   "cell_type": "code",
   "execution_count": 46,
   "metadata": {},
   "outputs": [],
   "source": [
    "csv_file.close()"
   ]
  },
  {
   "cell_type": "code",
   "execution_count": 47,
   "metadata": {},
   "outputs": [],
   "source": [
    "csv_file = open(path + 'data.csv','r')"
   ]
  },
  {
   "cell_type": "code",
   "execution_count": 48,
   "metadata": {},
   "outputs": [],
   "source": [
    "content = csv_file.readlines()"
   ]
  },
  {
   "cell_type": "code",
   "execution_count": 49,
   "metadata": {},
   "outputs": [
    {
     "data": {
      "text/plain": [
       "['data,no1,no2,no3,no4,no5\\n',\n",
       " '2009-01-01 00:00:00,-0.1942,-0.356,-0.7662,-0.2161,-0.3721\\n',\n",
       " '2009-01-01 01:00:00,0.1498,1.6072,-1.4736,0.9082,0.5728\\n',\n",
       " '2009-01-01 02:00:00,-1.2113,-0.2479,-1.4994,-1.9336,1.309\\n',\n",
       " '2009-01-01 03:00:00,-0.421,2.0131,0.0985,0.1507,1.011\\n']"
      ]
     },
     "execution_count": 49,
     "metadata": {},
     "output_type": "execute_result"
    }
   ],
   "source": [
    "content[:5]"
   ]
  },
  {
   "cell_type": "code",
   "execution_count": 50,
   "metadata": {},
   "outputs": [],
   "source": [
    "csv_file.close()"
   ]
  },
  {
   "cell_type": "code",
   "execution_count": 51,
   "metadata": {},
   "outputs": [],
   "source": [
    "import csv"
   ]
  },
  {
   "cell_type": "code",
   "execution_count": 52,
   "metadata": {},
   "outputs": [],
   "source": [
    "with open(path + 'data.csv','r') as f: # with open自动关闭\n",
    "    csv_reader = csv.reader(f)\n",
    "    lines = [line for line in csv_reader]"
   ]
  },
  {
   "cell_type": "code",
   "execution_count": 53,
   "metadata": {},
   "outputs": [
    {
     "data": {
      "text/plain": [
       "[['data', 'no1', 'no2', 'no3', 'no4', 'no5'],\n",
       " ['2009-01-01 00:00:00', '-0.1942', '-0.356', '-0.7662', '-0.2161', '-0.3721'],\n",
       " ['2009-01-01 01:00:00', '0.1498', '1.6072', '-1.4736', '0.9082', '0.5728'],\n",
       " ['2009-01-01 02:00:00', '-1.2113', '-0.2479', '-1.4994', '-1.9336', '1.309'],\n",
       " ['2009-01-01 03:00:00', '-0.421', '2.0131', '0.0985', '0.1507', '1.011']]"
      ]
     },
     "execution_count": 53,
     "metadata": {},
     "output_type": "execute_result"
    }
   ],
   "source": [
    "lines[:5]"
   ]
  },
  {
   "cell_type": "code",
   "execution_count": 55,
   "metadata": {},
   "outputs": [],
   "source": [
    "with open(path + 'data.csv','r') as f: # with open自动关闭\n",
    "    csv_reader = csv.DictReader(f)\n",
    "    lines = [line for line in csv_reader]"
   ]
  },
  {
   "cell_type": "code",
   "execution_count": 57,
   "metadata": {},
   "outputs": [
    {
     "data": {
      "text/plain": [
       "[OrderedDict([('data', '2009-01-01 00:00:00'),\n",
       "              ('no1', '-0.1942'),\n",
       "              ('no2', '-0.356'),\n",
       "              ('no3', '-0.7662'),\n",
       "              ('no4', '-0.2161'),\n",
       "              ('no5', '-0.3721')]),\n",
       " OrderedDict([('data', '2009-01-01 01:00:00'),\n",
       "              ('no1', '0.1498'),\n",
       "              ('no2', '1.6072'),\n",
       "              ('no3', '-1.4736'),\n",
       "              ('no4', '0.9082'),\n",
       "              ('no5', '0.5728')]),\n",
       " OrderedDict([('data', '2009-01-01 02:00:00'),\n",
       "              ('no1', '-1.2113'),\n",
       "              ('no2', '-0.2479'),\n",
       "              ('no3', '-1.4994'),\n",
       "              ('no4', '-1.9336'),\n",
       "              ('no5', '1.309')])]"
      ]
     },
     "execution_count": 57,
     "metadata": {},
     "output_type": "execute_result"
    }
   ],
   "source": [
    "lines[:3]"
   ]
  },
  {
   "cell_type": "code",
   "execution_count": 58,
   "metadata": {},
   "outputs": [],
   "source": [
    "!del data\\data.csv"
   ]
  },
  {
   "cell_type": "code",
   "execution_count": 60,
   "metadata": {},
   "outputs": [
    {
     "name": "stdout",
     "output_type": "stream",
     "text": [
      " 驱动器 C 中的卷没有标签。\n",
      " 卷的序列号是 340F-4C0D\n",
      "\n",
      " C:\\Users\\Carol\\Documents\\jupyterLab\\Chenghsi Hsieh\\python for finance\\data 的目录\n",
      "\n",
      "2019/10/06  00:22    <DIR>          .\n",
      "2019/10/06  00:22    <DIR>          ..\n",
      "2018/12/04  15:03           158,202 fxcm_eur_usd_eod_data.csv\n",
      "2018/12/04  15:03        20,459,972 fxcm_eur_usd_tick_data.csv\n",
      "2018/12/04  15:03           546,910 tr_eikon_aapl_tick.csv\n",
      "2018/12/04  15:03           209,046 tr_eikon_eod_data.csv\n",
      "2018/12/04  15:03           192,903 tr_eikon_eod_data_rounded.csv\n",
      "2018/12/04  15:03             7,612 tr_eikon_option_data.csv\n",
      "               6 个文件     21,574,645 字节\n",
      "               2 个目录 44,410,970,112 可用字节\n"
     ]
    }
   ],
   "source": [
    "!dir data"
   ]
  },
  {
   "cell_type": "code",
   "execution_count": null,
   "metadata": {},
   "outputs": [],
   "source": []
  }
 ],
 "metadata": {
  "kernelspec": {
   "display_name": "Python 3",
   "language": "python",
   "name": "python3"
  },
  "language_info": {
   "codemirror_mode": {
    "name": "ipython",
    "version": 3
   },
   "file_extension": ".py",
   "mimetype": "text/x-python",
   "name": "python",
   "nbconvert_exporter": "python",
   "pygments_lexer": "ipython3",
   "version": "3.7.3"
  }
 },
 "nbformat": 4,
 "nbformat_minor": 2
}
